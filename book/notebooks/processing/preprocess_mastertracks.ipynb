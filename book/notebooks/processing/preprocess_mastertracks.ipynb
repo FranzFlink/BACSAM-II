{
 "cells": [
  {
   "cell_type": "code",
   "execution_count": 1,
   "id": "79634df1",
   "metadata": {},
   "outputs": [],
   "source": [
    "import xarray as xr\n",
    "import pandas as pd\n",
    "import glob\n",
    "\n",
    "files = glob.glob('../../../data/observations/raw/polar6/mastertracks/*.tab')\n",
    "files\n",
    "\n",
    "list_of_ds = []\n",
    "for f in files:\n",
    "    df = pd.read_csv(f, sep='\\t', encoding='latin1', skiprows=17, parse_dates=['Date/Time']).rename(columns={'Date/Time': 'time'})\n",
    "    df = df.set_index('time')\n",
    "    list_of_ds.append(df.to_xarray())\n",
    "\n",
    "ds = xr.concat(list_of_ds, dim='time').sortby('time')\n",
    "ds = ds.rename(\n",
    "    {'Latitude' : 'latitude', 'Longitude': 'longitude', 'Flight altitude [m]': 'altitude'}\n",
    ")\n",
    "\n",
    "ds.to_netcdf('../../../data/observations/processed/polar6_unified/mastertracks_unified.nc')"
   ]
  }
 ],
 "metadata": {
  "kernelspec": {
   "display_name": "mamba_josh",
   "language": "python",
   "name": "python3"
  },
  "language_info": {
   "codemirror_mode": {
    "name": "ipython",
    "version": 3
   },
   "file_extension": ".py",
   "mimetype": "text/x-python",
   "name": "python",
   "nbconvert_exporter": "python",
   "pygments_lexer": "ipython3",
   "version": "3.12.2"
  }
 },
 "nbformat": 4,
 "nbformat_minor": 5
}
